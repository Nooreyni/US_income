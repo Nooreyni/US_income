{
 "metadata": {
  "language_info": {
   "codemirror_mode": {
    "name": "ipython",
    "version": 3
   },
   "file_extension": ".py",
   "mimetype": "text/x-python",
   "name": "python",
   "nbconvert_exporter": "python",
   "pygments_lexer": "ipython3",
   "version": "3.8.5-final"
  },
  "orig_nbformat": 2,
  "kernelspec": {
   "name": "python38564bit5f2391659b0b4e51a5ae522873c52736",
   "display_name": "Python 3.8.5 64-bit",
   "language": "python"
  }
 },
 "nbformat": 4,
 "nbformat_minor": 2,
 "cells": [
  {
   "cell_type": "code",
   "execution_count": 28,
   "metadata": {},
   "outputs": [],
   "source": [
    "# importing related librairies\n",
    "\n",
    "import pandas as pd\n",
    "import numpy as np\n",
    "import seaborn as sns\n",
    "import matplotlib.pyplot as plt\n",
    "from sklearn.model_selection import train_test_split, cross_val_score, cross_validate, GridSearchCV\n",
    "from sklearn.model_selection import KFold, StratifiedKFold, learning_curve\n",
    "from sklearn.ensemble import RandomForestClassifier\n",
    "from sklearn.preprocessing import MinMaxScaler\n",
    "from sklearn.metrics import confusion_matrix, roc_auc_score, plot_roc_curve, plot_confusion_matrix"
   ]
  },
  {
   "cell_type": "code",
   "execution_count": 2,
   "metadata": {},
   "outputs": [],
   "source": [
    "# importing datasets\n",
    "train = pd.read_csv(\"datasets/cleaned/data_train.csv\")\n",
    "test = pd.read_csv(\"datasets/cleaned/data_test.csv\")"
   ]
  },
  {
   "cell_type": "code",
   "execution_count": 3,
   "metadata": {},
   "outputs": [
    {
     "output_type": "execute_result",
     "data": {
      "text/plain": [
       "       age  workclass  fnlwgt  education  education-num  marital-status  \\\n",
       "25424   52          5  318351          5             10               1   \n",
       "26800   27          2  119793          5             10               1   \n",
       "4084    28          2  407672          5             10               2   \n",
       "26886   48          0  171926         10             15               1   \n",
       "5484    49          2  227800          8              4               1   \n",
       "31065   52          4  153312          6             12               1   \n",
       "5898    33          3  193246          0             13               1   \n",
       "12252   44          2   82601          0             13               1   \n",
       "26820   21          2  118186          5             10               0   \n",
       "20261   66          2  214469          1              9               6   \n",
       "\n",
       "       occupation  relationship  race  sex  capital-gain  capital-loss  \\\n",
       "25424          11             2     0    1             0             0   \n",
       "26800           6             1     0    0             0             0   \n",
       "4084            6             4     0    1             0             0   \n",
       "26886           3             1     0    0         15024             0   \n",
       "5484            3             1     0    0             0             0   \n",
       "31065          12             1     0    0             0             0   \n",
       "5898            0             1     0    0             0             0   \n",
       "12252           7             1     0    0             0             0   \n",
       "26820           5             3     1    1             0             0   \n",
       "20261           0             0     0    1             0             0   \n",
       "\n",
       "       hours-per-week  native-country  income  \n",
       "25424              40               0       1  \n",
       "26800              55               4       0  \n",
       "4084               40               0       0  \n",
       "26886              50               0       1  \n",
       "5484               32               0       0  \n",
       "31065              40               0       1  \n",
       "5898               42               0       1  \n",
       "12252              40               0       0  \n",
       "26820              20               0       0  \n",
       "20261              13               0       0  "
      ],
      "text/html": "<div>\n<style scoped>\n    .dataframe tbody tr th:only-of-type {\n        vertical-align: middle;\n    }\n\n    .dataframe tbody tr th {\n        vertical-align: top;\n    }\n\n    .dataframe thead th {\n        text-align: right;\n    }\n</style>\n<table border=\"1\" class=\"dataframe\">\n  <thead>\n    <tr style=\"text-align: right;\">\n      <th></th>\n      <th>age</th>\n      <th>workclass</th>\n      <th>fnlwgt</th>\n      <th>education</th>\n      <th>education-num</th>\n      <th>marital-status</th>\n      <th>occupation</th>\n      <th>relationship</th>\n      <th>race</th>\n      <th>sex</th>\n      <th>capital-gain</th>\n      <th>capital-loss</th>\n      <th>hours-per-week</th>\n      <th>native-country</th>\n      <th>income</th>\n    </tr>\n  </thead>\n  <tbody>\n    <tr>\n      <th>25424</th>\n      <td>52</td>\n      <td>5</td>\n      <td>318351</td>\n      <td>5</td>\n      <td>10</td>\n      <td>1</td>\n      <td>11</td>\n      <td>2</td>\n      <td>0</td>\n      <td>1</td>\n      <td>0</td>\n      <td>0</td>\n      <td>40</td>\n      <td>0</td>\n      <td>1</td>\n    </tr>\n    <tr>\n      <th>26800</th>\n      <td>27</td>\n      <td>2</td>\n      <td>119793</td>\n      <td>5</td>\n      <td>10</td>\n      <td>1</td>\n      <td>6</td>\n      <td>1</td>\n      <td>0</td>\n      <td>0</td>\n      <td>0</td>\n      <td>0</td>\n      <td>55</td>\n      <td>4</td>\n      <td>0</td>\n    </tr>\n    <tr>\n      <th>4084</th>\n      <td>28</td>\n      <td>2</td>\n      <td>407672</td>\n      <td>5</td>\n      <td>10</td>\n      <td>2</td>\n      <td>6</td>\n      <td>4</td>\n      <td>0</td>\n      <td>1</td>\n      <td>0</td>\n      <td>0</td>\n      <td>40</td>\n      <td>0</td>\n      <td>0</td>\n    </tr>\n    <tr>\n      <th>26886</th>\n      <td>48</td>\n      <td>0</td>\n      <td>171926</td>\n      <td>10</td>\n      <td>15</td>\n      <td>1</td>\n      <td>3</td>\n      <td>1</td>\n      <td>0</td>\n      <td>0</td>\n      <td>15024</td>\n      <td>0</td>\n      <td>50</td>\n      <td>0</td>\n      <td>1</td>\n    </tr>\n    <tr>\n      <th>5484</th>\n      <td>49</td>\n      <td>2</td>\n      <td>227800</td>\n      <td>8</td>\n      <td>4</td>\n      <td>1</td>\n      <td>3</td>\n      <td>1</td>\n      <td>0</td>\n      <td>0</td>\n      <td>0</td>\n      <td>0</td>\n      <td>32</td>\n      <td>0</td>\n      <td>0</td>\n    </tr>\n    <tr>\n      <th>31065</th>\n      <td>52</td>\n      <td>4</td>\n      <td>153312</td>\n      <td>6</td>\n      <td>12</td>\n      <td>1</td>\n      <td>12</td>\n      <td>1</td>\n      <td>0</td>\n      <td>0</td>\n      <td>0</td>\n      <td>0</td>\n      <td>40</td>\n      <td>0</td>\n      <td>1</td>\n    </tr>\n    <tr>\n      <th>5898</th>\n      <td>33</td>\n      <td>3</td>\n      <td>193246</td>\n      <td>0</td>\n      <td>13</td>\n      <td>1</td>\n      <td>0</td>\n      <td>1</td>\n      <td>0</td>\n      <td>0</td>\n      <td>0</td>\n      <td>0</td>\n      <td>42</td>\n      <td>0</td>\n      <td>1</td>\n    </tr>\n    <tr>\n      <th>12252</th>\n      <td>44</td>\n      <td>2</td>\n      <td>82601</td>\n      <td>0</td>\n      <td>13</td>\n      <td>1</td>\n      <td>7</td>\n      <td>1</td>\n      <td>0</td>\n      <td>0</td>\n      <td>0</td>\n      <td>0</td>\n      <td>40</td>\n      <td>0</td>\n      <td>0</td>\n    </tr>\n    <tr>\n      <th>26820</th>\n      <td>21</td>\n      <td>2</td>\n      <td>118186</td>\n      <td>5</td>\n      <td>10</td>\n      <td>0</td>\n      <td>5</td>\n      <td>3</td>\n      <td>1</td>\n      <td>1</td>\n      <td>0</td>\n      <td>0</td>\n      <td>20</td>\n      <td>0</td>\n      <td>0</td>\n    </tr>\n    <tr>\n      <th>20261</th>\n      <td>66</td>\n      <td>2</td>\n      <td>214469</td>\n      <td>1</td>\n      <td>9</td>\n      <td>6</td>\n      <td>0</td>\n      <td>0</td>\n      <td>0</td>\n      <td>1</td>\n      <td>0</td>\n      <td>0</td>\n      <td>13</td>\n      <td>0</td>\n      <td>0</td>\n    </tr>\n  </tbody>\n</table>\n</div>"
     },
     "metadata": {},
     "execution_count": 3
    }
   ],
   "source": [
    "train.sample(10)"
   ]
  },
  {
   "cell_type": "code",
   "execution_count": 4,
   "metadata": {},
   "outputs": [
    {
     "output_type": "execute_result",
     "data": {
      "text/plain": [
       "       age  workclass  fnlwgt  education  education-num  marital-status  \\\n",
       "9338    49          2  136358          3             14               2   \n",
       "8041    18          5  352430          2              7               0   \n",
       "11782   60          1   54614          7             11               1   \n",
       "3057    33          2  164864          0             13               2   \n",
       "14723   48          5  136455          5             10               2   \n",
       "1341    52          0   32372          5             10               1   \n",
       "9783    21          2  301915          2              7               4   \n",
       "973     38          2  191137         12              6               1   \n",
       "951     80          2  138050          1              9               3   \n",
       "7100    52          2  257756          7             11               2   \n",
       "\n",
       "       occupation  relationship  race  sex  capital-gain  capital-loss  \\\n",
       "9338            5             4     4    1             0             0   \n",
       "8041           11             3     0    0             0          1602   \n",
       "11782           4             2     0    1             0             0   \n",
       "3057            3             4     0    1             0           323   \n",
       "14723          11             0     0    1             0             0   \n",
       "1341            3             1     0    0             0             0   \n",
       "9783            5             0     4    1             0             0   \n",
       "973             4             1     0    0             0             0   \n",
       "951             9             0     0    1             0             0   \n",
       "7100            0             0     0    1             0             0   \n",
       "\n",
       "       hours-per-week  native-country  income  \n",
       "9338               20              31       0  \n",
       "8041               30               0       0  \n",
       "11782              40               0       0  \n",
       "3057               40               0       0  \n",
       "14723              16               0       0  \n",
       "1341               40               0       0  \n",
       "9783               30               5       0  \n",
       "973                40               0       0  \n",
       "951                16               0       0  \n",
       "7100               40              11       0  "
      ],
      "text/html": "<div>\n<style scoped>\n    .dataframe tbody tr th:only-of-type {\n        vertical-align: middle;\n    }\n\n    .dataframe tbody tr th {\n        vertical-align: top;\n    }\n\n    .dataframe thead th {\n        text-align: right;\n    }\n</style>\n<table border=\"1\" class=\"dataframe\">\n  <thead>\n    <tr style=\"text-align: right;\">\n      <th></th>\n      <th>age</th>\n      <th>workclass</th>\n      <th>fnlwgt</th>\n      <th>education</th>\n      <th>education-num</th>\n      <th>marital-status</th>\n      <th>occupation</th>\n      <th>relationship</th>\n      <th>race</th>\n      <th>sex</th>\n      <th>capital-gain</th>\n      <th>capital-loss</th>\n      <th>hours-per-week</th>\n      <th>native-country</th>\n      <th>income</th>\n    </tr>\n  </thead>\n  <tbody>\n    <tr>\n      <th>9338</th>\n      <td>49</td>\n      <td>2</td>\n      <td>136358</td>\n      <td>3</td>\n      <td>14</td>\n      <td>2</td>\n      <td>5</td>\n      <td>4</td>\n      <td>4</td>\n      <td>1</td>\n      <td>0</td>\n      <td>0</td>\n      <td>20</td>\n      <td>31</td>\n      <td>0</td>\n    </tr>\n    <tr>\n      <th>8041</th>\n      <td>18</td>\n      <td>5</td>\n      <td>352430</td>\n      <td>2</td>\n      <td>7</td>\n      <td>0</td>\n      <td>11</td>\n      <td>3</td>\n      <td>0</td>\n      <td>0</td>\n      <td>0</td>\n      <td>1602</td>\n      <td>30</td>\n      <td>0</td>\n      <td>0</td>\n    </tr>\n    <tr>\n      <th>11782</th>\n      <td>60</td>\n      <td>1</td>\n      <td>54614</td>\n      <td>7</td>\n      <td>11</td>\n      <td>1</td>\n      <td>4</td>\n      <td>2</td>\n      <td>0</td>\n      <td>1</td>\n      <td>0</td>\n      <td>0</td>\n      <td>40</td>\n      <td>0</td>\n      <td>0</td>\n    </tr>\n    <tr>\n      <th>3057</th>\n      <td>33</td>\n      <td>2</td>\n      <td>164864</td>\n      <td>0</td>\n      <td>13</td>\n      <td>2</td>\n      <td>3</td>\n      <td>4</td>\n      <td>0</td>\n      <td>1</td>\n      <td>0</td>\n      <td>323</td>\n      <td>40</td>\n      <td>0</td>\n      <td>0</td>\n    </tr>\n    <tr>\n      <th>14723</th>\n      <td>48</td>\n      <td>5</td>\n      <td>136455</td>\n      <td>5</td>\n      <td>10</td>\n      <td>2</td>\n      <td>11</td>\n      <td>0</td>\n      <td>0</td>\n      <td>1</td>\n      <td>0</td>\n      <td>0</td>\n      <td>16</td>\n      <td>0</td>\n      <td>0</td>\n    </tr>\n    <tr>\n      <th>1341</th>\n      <td>52</td>\n      <td>0</td>\n      <td>32372</td>\n      <td>5</td>\n      <td>10</td>\n      <td>1</td>\n      <td>3</td>\n      <td>1</td>\n      <td>0</td>\n      <td>0</td>\n      <td>0</td>\n      <td>0</td>\n      <td>40</td>\n      <td>0</td>\n      <td>0</td>\n    </tr>\n    <tr>\n      <th>9783</th>\n      <td>21</td>\n      <td>2</td>\n      <td>301915</td>\n      <td>2</td>\n      <td>7</td>\n      <td>4</td>\n      <td>5</td>\n      <td>0</td>\n      <td>4</td>\n      <td>1</td>\n      <td>0</td>\n      <td>0</td>\n      <td>30</td>\n      <td>5</td>\n      <td>0</td>\n    </tr>\n    <tr>\n      <th>973</th>\n      <td>38</td>\n      <td>2</td>\n      <td>191137</td>\n      <td>12</td>\n      <td>6</td>\n      <td>1</td>\n      <td>4</td>\n      <td>1</td>\n      <td>0</td>\n      <td>0</td>\n      <td>0</td>\n      <td>0</td>\n      <td>40</td>\n      <td>0</td>\n      <td>0</td>\n    </tr>\n    <tr>\n      <th>951</th>\n      <td>80</td>\n      <td>2</td>\n      <td>138050</td>\n      <td>1</td>\n      <td>9</td>\n      <td>3</td>\n      <td>9</td>\n      <td>0</td>\n      <td>0</td>\n      <td>1</td>\n      <td>0</td>\n      <td>0</td>\n      <td>16</td>\n      <td>0</td>\n      <td>0</td>\n    </tr>\n    <tr>\n      <th>7100</th>\n      <td>52</td>\n      <td>2</td>\n      <td>257756</td>\n      <td>7</td>\n      <td>11</td>\n      <td>2</td>\n      <td>0</td>\n      <td>0</td>\n      <td>0</td>\n      <td>1</td>\n      <td>0</td>\n      <td>0</td>\n      <td>40</td>\n      <td>11</td>\n      <td>0</td>\n    </tr>\n  </tbody>\n</table>\n</div>"
     },
     "metadata": {},
     "execution_count": 4
    }
   ],
   "source": [
    "test.sample(10)"
   ]
  },
  {
   "cell_type": "code",
   "execution_count": 5,
   "metadata": {},
   "outputs": [
    {
     "output_type": "stream",
     "name": "stdout",
     "text": [
      "Train shape = (32561, 15)\nTest shape = (16281, 15)\n"
     ]
    }
   ],
   "source": [
    "print(f\"Train shape = {train.shape}\")\n",
    "print(f\"Test shape = {test.shape}\")"
   ]
  },
  {
   "cell_type": "code",
   "execution_count": 6,
   "metadata": {},
   "outputs": [
    {
     "output_type": "execute_result",
     "data": {
      "text/plain": [
       "                  count           mean            std      min       25%  \\\n",
       "age             32561.0      38.581647      13.640433     17.0      28.0   \n",
       "workclass       32561.0       2.309972       1.225728      0.0       2.0   \n",
       "fnlwgt          32561.0  189778.366512  105549.977697  12285.0  117827.0   \n",
       "education       32561.0       3.424465       3.453582      0.0       1.0   \n",
       "education-num   32561.0      10.080679       2.572720      1.0       9.0   \n",
       "marital-status  32561.0       1.083781       1.251381      0.0       0.0   \n",
       "occupation      32561.0       4.666411       3.386119      0.0       2.0   \n",
       "relationship    32561.0       1.542397       1.437431      0.0       0.0   \n",
       "race            32561.0       0.221707       0.627348      0.0       0.0   \n",
       "sex             32561.0       0.330795       0.470506      0.0       0.0   \n",
       "capital-gain    32561.0    1077.648844    7385.292085      0.0       0.0   \n",
       "capital-loss    32561.0      87.303830     402.960219      0.0       0.0   \n",
       "hours-per-week  32561.0      40.437456      12.347429      1.0      40.0   \n",
       "native-country  32561.0       1.290317       5.045373      0.0       0.0   \n",
       "income          32561.0       0.240810       0.427581      0.0       0.0   \n",
       "\n",
       "                     50%       75%        max  \n",
       "age                 37.0      48.0       90.0  \n",
       "workclass            2.0       2.0        8.0  \n",
       "fnlwgt          178356.0  237051.0  1484705.0  \n",
       "education            2.0       5.0       15.0  \n",
       "education-num       10.0      12.0       16.0  \n",
       "marital-status       1.0       1.0        6.0  \n",
       "occupation           4.0       7.0       14.0  \n",
       "relationship         1.0       3.0        5.0  \n",
       "race                 0.0       0.0        4.0  \n",
       "sex                  0.0       1.0        1.0  \n",
       "capital-gain         0.0       0.0    99999.0  \n",
       "capital-loss         0.0       0.0     4356.0  \n",
       "hours-per-week      40.0      45.0       99.0  \n",
       "native-country       0.0       0.0       41.0  \n",
       "income               0.0       0.0        1.0  "
      ],
      "text/html": "<div>\n<style scoped>\n    .dataframe tbody tr th:only-of-type {\n        vertical-align: middle;\n    }\n\n    .dataframe tbody tr th {\n        vertical-align: top;\n    }\n\n    .dataframe thead th {\n        text-align: right;\n    }\n</style>\n<table border=\"1\" class=\"dataframe\">\n  <thead>\n    <tr style=\"text-align: right;\">\n      <th></th>\n      <th>count</th>\n      <th>mean</th>\n      <th>std</th>\n      <th>min</th>\n      <th>25%</th>\n      <th>50%</th>\n      <th>75%</th>\n      <th>max</th>\n    </tr>\n  </thead>\n  <tbody>\n    <tr>\n      <th>age</th>\n      <td>32561.0</td>\n      <td>38.581647</td>\n      <td>13.640433</td>\n      <td>17.0</td>\n      <td>28.0</td>\n      <td>37.0</td>\n      <td>48.0</td>\n      <td>90.0</td>\n    </tr>\n    <tr>\n      <th>workclass</th>\n      <td>32561.0</td>\n      <td>2.309972</td>\n      <td>1.225728</td>\n      <td>0.0</td>\n      <td>2.0</td>\n      <td>2.0</td>\n      <td>2.0</td>\n      <td>8.0</td>\n    </tr>\n    <tr>\n      <th>fnlwgt</th>\n      <td>32561.0</td>\n      <td>189778.366512</td>\n      <td>105549.977697</td>\n      <td>12285.0</td>\n      <td>117827.0</td>\n      <td>178356.0</td>\n      <td>237051.0</td>\n      <td>1484705.0</td>\n    </tr>\n    <tr>\n      <th>education</th>\n      <td>32561.0</td>\n      <td>3.424465</td>\n      <td>3.453582</td>\n      <td>0.0</td>\n      <td>1.0</td>\n      <td>2.0</td>\n      <td>5.0</td>\n      <td>15.0</td>\n    </tr>\n    <tr>\n      <th>education-num</th>\n      <td>32561.0</td>\n      <td>10.080679</td>\n      <td>2.572720</td>\n      <td>1.0</td>\n      <td>9.0</td>\n      <td>10.0</td>\n      <td>12.0</td>\n      <td>16.0</td>\n    </tr>\n    <tr>\n      <th>marital-status</th>\n      <td>32561.0</td>\n      <td>1.083781</td>\n      <td>1.251381</td>\n      <td>0.0</td>\n      <td>0.0</td>\n      <td>1.0</td>\n      <td>1.0</td>\n      <td>6.0</td>\n    </tr>\n    <tr>\n      <th>occupation</th>\n      <td>32561.0</td>\n      <td>4.666411</td>\n      <td>3.386119</td>\n      <td>0.0</td>\n      <td>2.0</td>\n      <td>4.0</td>\n      <td>7.0</td>\n      <td>14.0</td>\n    </tr>\n    <tr>\n      <th>relationship</th>\n      <td>32561.0</td>\n      <td>1.542397</td>\n      <td>1.437431</td>\n      <td>0.0</td>\n      <td>0.0</td>\n      <td>1.0</td>\n      <td>3.0</td>\n      <td>5.0</td>\n    </tr>\n    <tr>\n      <th>race</th>\n      <td>32561.0</td>\n      <td>0.221707</td>\n      <td>0.627348</td>\n      <td>0.0</td>\n      <td>0.0</td>\n      <td>0.0</td>\n      <td>0.0</td>\n      <td>4.0</td>\n    </tr>\n    <tr>\n      <th>sex</th>\n      <td>32561.0</td>\n      <td>0.330795</td>\n      <td>0.470506</td>\n      <td>0.0</td>\n      <td>0.0</td>\n      <td>0.0</td>\n      <td>1.0</td>\n      <td>1.0</td>\n    </tr>\n    <tr>\n      <th>capital-gain</th>\n      <td>32561.0</td>\n      <td>1077.648844</td>\n      <td>7385.292085</td>\n      <td>0.0</td>\n      <td>0.0</td>\n      <td>0.0</td>\n      <td>0.0</td>\n      <td>99999.0</td>\n    </tr>\n    <tr>\n      <th>capital-loss</th>\n      <td>32561.0</td>\n      <td>87.303830</td>\n      <td>402.960219</td>\n      <td>0.0</td>\n      <td>0.0</td>\n      <td>0.0</td>\n      <td>0.0</td>\n      <td>4356.0</td>\n    </tr>\n    <tr>\n      <th>hours-per-week</th>\n      <td>32561.0</td>\n      <td>40.437456</td>\n      <td>12.347429</td>\n      <td>1.0</td>\n      <td>40.0</td>\n      <td>40.0</td>\n      <td>45.0</td>\n      <td>99.0</td>\n    </tr>\n    <tr>\n      <th>native-country</th>\n      <td>32561.0</td>\n      <td>1.290317</td>\n      <td>5.045373</td>\n      <td>0.0</td>\n      <td>0.0</td>\n      <td>0.0</td>\n      <td>0.0</td>\n      <td>41.0</td>\n    </tr>\n    <tr>\n      <th>income</th>\n      <td>32561.0</td>\n      <td>0.240810</td>\n      <td>0.427581</td>\n      <td>0.0</td>\n      <td>0.0</td>\n      <td>0.0</td>\n      <td>0.0</td>\n      <td>1.0</td>\n    </tr>\n  </tbody>\n</table>\n</div>"
     },
     "metadata": {},
     "execution_count": 6
    }
   ],
   "source": [
    "# describe\n",
    "train.describe().T"
   ]
  },
  {
   "cell_type": "code",
   "execution_count": 7,
   "metadata": {},
   "outputs": [],
   "source": [
    "# plot the correlation between colummns \n",
    "# plt.figure(figsize=(12,10))\n",
    "# sns.heatmap(train.corr(), cmap=\"coolwarm\")\n",
    "# plt.title('Heatmap')\n",
    "# plt.savefig(\"img/htm.png\")"
   ]
  },
  {
   "cell_type": "code",
   "execution_count": 8,
   "metadata": {},
   "outputs": [],
   "source": [
    "# pairplot\n",
    "# plt.figure(figsize=(12,10))\n",
    "# sns.pairplot(train.corr())\n",
    "# plt.title('relations')\n",
    "# plt.savefig(\"img/ppt.png\")"
   ]
  },
  {
   "source": [
    "most_col = [\"age\", \"education-num\", \"capital-gain\", \"capital-loss\", \"hours-per-week\"]"
   ],
   "cell_type": "markdown",
   "metadata": {}
  },
  {
   "cell_type": "code",
   "execution_count": 9,
   "metadata": {},
   "outputs": [],
   "source": [
    "# function splitting between target and feature\n",
    "def sets(train, test, col):\n",
    "    y1 = train[col]\n",
    "    x1 = train.drop(col, axis=1)\n",
    "    y2 = test[col]\n",
    "    x2 = test.drop(col, axis=1)\n",
    "    return x1, y1, x2, y2"
   ]
  },
  {
   "cell_type": "code",
   "execution_count": 10,
   "metadata": {},
   "outputs": [],
   "source": [
    "X_train, y_train, X_test, y_test = sets(train, test, \"income\")"
   ]
  },
  {
   "cell_type": "code",
   "execution_count": 11,
   "metadata": {},
   "outputs": [
    {
     "output_type": "stream",
     "name": "stdout",
     "text": [
      "X train shape = (32561, 14)\ny train shape = (32561,)\nX test shape = (16281, 14)\ny test shape = (16281,)\n"
     ]
    }
   ],
   "source": [
    "print(f\"X train shape = {X_train.shape}\")\n",
    "print(f\"y train shape = {y_train.shape}\")\n",
    "print(f\"X test shape = {X_test.shape}\")\n",
    "print(f\"y test shape = {y_test.shape}\")"
   ]
  },
  {
   "cell_type": "code",
   "execution_count": 12,
   "metadata": {},
   "outputs": [],
   "source": [
    "# instanciate problem\n",
    "rf = RandomForestClassifier()"
   ]
  },
  {
   "cell_type": "code",
   "execution_count": 13,
   "metadata": {},
   "outputs": [],
   "source": [
    "def classif(model, X_train, X_test, y_train, y_test):\n",
    "    '''\n",
    "    for the instanciated model,\n",
    "    this function will fit train and test,\n",
    "    give the score and return the y_redic\n",
    "    '''\n",
    "    model.fit(X_train, y_train)\n",
    "\n",
    "    print(f\"Train score = {model.score(X_train, y_train):.3f}\")\n",
    "    print(f\"Test score = {model.score(X_test, y_test):.3f}\")\n",
    "\n",
    "    y_pred = model.predict(X_test)\n",
    "    return y_pred"
   ]
  },
  {
   "cell_type": "code",
   "execution_count": 14,
   "metadata": {},
   "outputs": [
    {
     "output_type": "stream",
     "name": "stdout",
     "text": [
      "Train score = 1.000\n",
      "Test score = 0.854\n"
     ]
    }
   ],
   "source": [
    "randfc = classif(rf, X_train, X_test, y_train, y_test)"
   ]
  },
  {
   "source": [
    "here we have an overfit. this may be caused by the non-normalization of the dataset. the model memorized the noises instead of learning the signal.\n",
    "So to come over this, lets normalize the datasets, use gridsearch and tune parameters to have the best model."
   ],
   "cell_type": "markdown",
   "metadata": {}
  },
  {
   "cell_type": "code",
   "execution_count": 15,
   "metadata": {},
   "outputs": [],
   "source": [
    "def norm(model, x, y):\n",
    "    '''\n",
    "    for a given train and test sets, this function will\n",
    "    fit and transform the train set\n",
    "    transform the test set\n",
    "    '''\n",
    "    x_norm = model.fit_transform(x)\n",
    "    y_norm = model.transform(y)\n",
    "    return x_norm, y_norm"
   ]
  },
  {
   "cell_type": "code",
   "execution_count": 16,
   "metadata": {},
   "outputs": [],
   "source": [
    "# instanciate the model\n",
    "ss = MinMaxScaler(feature_range=(0, 1))"
   ]
  },
  {
   "cell_type": "code",
   "execution_count": 17,
   "metadata": {},
   "outputs": [],
   "source": [
    "X_train, X_test = norm(ss, X_train, X_test)"
   ]
  },
  {
   "cell_type": "code",
   "execution_count": 18,
   "metadata": {},
   "outputs": [],
   "source": [
    "# parameters of the model\n",
    "param_grid = {\n",
    "    'n_estimators': [10, 20, 50, 100, 200],\n",
    "    'criterion': ['gini', 'entropy'],\n",
    "    'max_depth': [5, 7, 10],\n",
    "    'min_samples_leaf': [5, 7, 10, 20],\n",
    "}"
   ]
  },
  {
   "cell_type": "code",
   "execution_count": 19,
   "metadata": {},
   "outputs": [],
   "source": [
    "# instanciate the model\n",
    "grid = GridSearchCV(rf, param_grid=param_grid, cv=5)\n"
   ]
  },
  {
   "cell_type": "code",
   "execution_count": 20,
   "metadata": {},
   "outputs": [
    {
     "output_type": "error",
     "ename": "AttributeError",
     "evalue": "'GridSearchCV' object has no attribute 'best_params'",
     "traceback": [
      "\u001b[0;31m---------------------------------------------------------------------------\u001b[0m",
      "\u001b[0;31mAttributeError\u001b[0m                            Traceback (most recent call last)",
      "\u001b[0;32m<ipython-input-20-67f221d085dd>\u001b[0m in \u001b[0;36m<module>\u001b[0;34m\u001b[0m\n\u001b[1;32m      2\u001b[0m \u001b[0mX_train\u001b[0m\u001b[0;34m,\u001b[0m \u001b[0mX_test\u001b[0m\u001b[0;34m,\u001b[0m \u001b[0my_train\u001b[0m\u001b[0;34m,\u001b[0m \u001b[0my_test\u001b[0m\u001b[0;34m,\u001b[0m\u001b[0;34m\u001b[0m\u001b[0;34m\u001b[0m\u001b[0m\n\u001b[1;32m      3\u001b[0m \u001b[0mgrid\u001b[0m\u001b[0;34m.\u001b[0m\u001b[0mfit\u001b[0m\u001b[0;34m(\u001b[0m\u001b[0mX_train\u001b[0m\u001b[0;34m,\u001b[0m \u001b[0my_train\u001b[0m\u001b[0;34m)\u001b[0m\u001b[0;34m\u001b[0m\u001b[0;34m\u001b[0m\u001b[0m\n\u001b[0;32m----> 4\u001b[0;31m \u001b[0mgrid\u001b[0m\u001b[0;34m.\u001b[0m\u001b[0mbest_params\u001b[0m\u001b[0;34m\u001b[0m\u001b[0;34m\u001b[0m\u001b[0m\n\u001b[0m",
      "\u001b[0;31mAttributeError\u001b[0m: 'GridSearchCV' object has no attribute 'best_params'"
     ]
    }
   ],
   "source": [
    "# fit and get best models\n",
    "X_train, X_test, y_train, y_test, \n"
   ]
  },
  {
   "cell_type": "code",
   "execution_count": null,
   "metadata": {},
   "outputs": [],
   "source": [
    "# fit with grid search\n",
    "grid.fit(X_train, y_train)"
   ]
  },
  {
   "cell_type": "code",
   "execution_count": 23,
   "metadata": {},
   "outputs": [
    {
     "output_type": "execute_result",
     "data": {
      "text/plain": [
       "RandomForestClassifier(max_depth=10, min_samples_leaf=5, n_estimators=50)"
      ]
     },
     "metadata": {},
     "execution_count": 23
    }
   ],
   "source": [
    "# best estimator\n",
    "grid.best_estimator_"
   ]
  },
  {
   "cell_type": "code",
   "execution_count": 24,
   "metadata": {},
   "outputs": [
    {
     "output_type": "execute_result",
     "data": {
      "text/plain": [
       "0.8652375541291729"
      ]
     },
     "metadata": {},
     "execution_count": 24
    }
   ],
   "source": [
    "model = grid.best_estimator_\n",
    "model.score(X_train, y_train)"
   ]
  },
  {
   "cell_type": "code",
   "execution_count": 25,
   "metadata": {},
   "outputs": [
    {
     "output_type": "execute_result",
     "data": {
      "text/plain": [
       "0.8601437258153676"
      ]
     },
     "metadata": {},
     "execution_count": 25
    }
   ],
   "source": [
    "model.score(X_test, y_test)\n"
   ]
  },
  {
   "cell_type": "code",
   "execution_count": 26,
   "metadata": {},
   "outputs": [],
   "source": [
    "# predict target\n",
    "y_pred = model.predict(X_test)"
   ]
  },
  {
   "cell_type": "code",
   "execution_count": 29,
   "metadata": {},
   "outputs": [
    {
     "output_type": "execute_result",
     "data": {
      "text/plain": [
       "array([[11899,   536],\n",
       "       [ 1741,  2105]])"
      ]
     },
     "metadata": {},
     "execution_count": 29
    }
   ],
   "source": [
    "confusion_matrix(y_test, y_pred)"
   ]
  },
  {
   "cell_type": "code",
   "execution_count": 35,
   "metadata": {},
   "outputs": [
    {
     "output_type": "stream",
     "name": "stdout",
     "text": [
      "Cross val score StratifiedKFold(n_splits=4, random_state=None, shuffle=False) = [0.85247513 0.85515971 0.86154791 0.85945946]\n",
      "Cross val score KFold(n_splits=5, random_state=None, shuffle=False) = [0.85183479 0.85826167 0.86164005 0.8634828  0.85826167]\n"
     ]
    }
   ],
   "source": [
    "cv = [StratifiedKFold(4), KFold(5)]\n",
    "for i in cv:\n",
    "    print(f\"Cross val score {i} = {cross_val_score(model, X_train, y_train, cv=i)}\")"
   ]
  },
  {
   "cell_type": "code",
   "execution_count": null,
   "metadata": {},
   "outputs": [],
   "source": []
  }
 ]
}